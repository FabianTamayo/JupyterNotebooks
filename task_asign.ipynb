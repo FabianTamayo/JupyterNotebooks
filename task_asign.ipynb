{
 "cells": [
  {
   "cell_type": "code",
   "execution_count": 6,
   "metadata": {},
   "outputs": [
    {
     "name": "stdout",
     "output_type": "stream",
     "text": [
      "Objective is: 0.9661155317916974\n",
      "Optimal solution is:\n",
      "x[1,1] = 0.0\n",
      "x[1,2] = 0.0\n",
      "x[1,3] = 1.0\n",
      "x[2,1] = 0.0\n",
      "x[2,2] = 1.0\n",
      "x[2,3] = 0.0\n",
      "x[3,1] = 1.0\n",
      "x[3,2] = 0.0\n",
      "x[3,3] = 0.0\n"
     ]
    }
   ],
   "source": [
    "import JuMP, GLPK\n",
    "\n",
    "const MOI = JuMP.MathOptInterface\n",
    "m = 3;\n",
    "c_ij = rand(m,m);\n",
    "#print(c_ij)\n",
    "model = JuMP.Model(JuMP.with_optimizer(GLPK.Optimizer))\n",
    "#x is Binari, \n",
    "JuMP.@variable(model, x[1:m, 1:m], Bin)\n",
    "JuMP.@objective(model, Min, sum(c_ij[i,j]*x[i,j] for i in 1:m, j in 1:m))\n",
    "JuMP.@constraints(model, begin\n",
    "        # Constraint 1 - Sum over i == 1\n",
    "        row[i in 1:m], sum(x[i, :]) == 1\n",
    "        # Constraint 2 - Sum over j == 1\n",
    "        col[j in 1:m], sum(x[:, j]) == 1\n",
    "    end)\n",
    "JuMP.optimize!(model)\n",
    "    term_status = JuMP.termination_status(model)\n",
    "    primal_status = JuMP.primal_status(model)\n",
    "    is_optimal = term_status == MOI.OPTIMAL\n",
    "\n",
    "    # Check solution\n",
    "    if is_optimal\n",
    "        println(\"Objective is: \", JuMP.objective_value(model))\n",
    "        println(\"Optimal solution is:\")\n",
    "        for i in 1:m\n",
    "            for j in 1:m    \n",
    "            println(\"x[$i,$j] = \", JuMP.value(x[i,j]))\n",
    "            end\n",
    "        end\n",
    "    else\n",
    "        error(\"No se encontró una solución\")\n",
    "    end"
   ]
  },
  {
   "cell_type": "code",
   "execution_count": null,
   "metadata": {},
   "outputs": [],
   "source": []
  },
  {
   "cell_type": "code",
   "execution_count": null,
   "metadata": {},
   "outputs": [],
   "source": []
  }
 ],
 "metadata": {
  "kernelspec": {
   "display_name": "Julia 1.0.3",
   "language": "julia",
   "name": "julia-1.0"
  },
  "language_info": {
   "file_extension": ".jl",
   "mimetype": "application/julia",
   "name": "julia",
   "version": "1.0.3"
  }
 },
 "nbformat": 4,
 "nbformat_minor": 2
}
