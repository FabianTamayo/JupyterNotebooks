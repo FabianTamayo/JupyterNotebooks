{
 "cells": [
  {
   "cell_type": "code",
   "execution_count": 13,
   "metadata": {},
   "outputs": [
    {
     "ename": "LoadError",
     "evalue": "In `@constraint(model)`: Not enough positional arguments",
     "output_type": "error",
     "traceback": [
      "In `@constraint(model)`: Not enough positional arguments",
      "",
      "Stacktrace:",
      " [1] error(::String, ::String) at ./error.jl:42",
      " [2] _macro_error(::Symbol, ::Array{Any,1}, ::String) at /home/fabian/.julia/packages/JuMP/jnmGG/src/macros.jl:1086",
      " [3] (::getfield(JuMP, Symbol(\"#_error#55\")){Symbol})(::String) at /home/fabian/.julia/packages/JuMP/jnmGG/src/macros.jl:570",
      " [4] _constraint_macro(::Tuple{Symbol,Expr}, ::Symbol, ::Function) at /home/fabian/.julia/packages/JuMP/jnmGG/src/macros.jl:576",
      " [5] @constraint(::LineNumberNode, ::Module, ::Vararg{Any,N} where N) at /home/fabian/.julia/packages/JuMP/jnmGG/src/macros.jl:700"
     ]
    }
   ],
   "source": [
    "using JuMP, GLPK\n",
    "const MOI = JuMP.MathOptInterface\n",
    "\n",
    "m = 3;\n",
    "c = zeros(m,m);\n",
    "#Make diag cost matrix c\n",
    "for i in 1:m\n",
    "    for j in 1:m\n",
    "        if i == j\n",
    "            c[i,i] = 0;\n",
    "        end\n",
    "        if j > i\n",
    "            c[i,j] = c[j,i] = rand();\n",
    "        end\n",
    "        #print(c[i,j], \" \")\n",
    "    end\n",
    "        #print(\"\\n\")\n",
    "end\n",
    "#t = 0:m-1;\n",
    "model = JuMP.Model(JuMP.with_optimizer(GLPK.Optimizer))\n",
    "@variable(model, x[1:m, 1:m], Bin)\n",
    "@variable(model, t[1:m], Int)\n",
    "@objective(model, Min, sum(c[i,j]*x[i,j] for i in 1:m, j in 1:m))\n",
    "#for i = 1:m\n",
    "#        @constraint(model, t[i] >= 0)\n",
    "#end\n",
    "for i = 1:m, j = 2:m\n",
    "    if i != j\n",
    "        @constraint(model,t[j] >= t[i] + 1 - m*(1-x[i,j]))\n",
    "    end\n",
    "    @constraint(model, x[i,i] = 0)  \n",
    "end\n",
    "#@constraint(model, t[1]==0)\n",
    "#@constraints(model, begin\n",
    "        # Constraint 1 - Sum over j == 1\n",
    "#        [i in 1:m, j in 2:m], sum(x[i,j])==1\n",
    "        # Constraint 1 - Sum over i == 1\n",
    "#        [i in 1:m, j in 2:m], sum(x[i,j])==1\n",
    "#        end)\n",
    "@constraint(model, const_a[i=1:m], sum(x[i,1:m])==1)\n",
    "@constraint(model, const_b[j=1:m], sum(x[1:m,j])==1)"
   ]
  },
  {
   "cell_type": "code",
   "execution_count": 29,
   "metadata": {},
   "outputs": [
    {
     "name": "stdout",
     "output_type": "stream",
     "text": [
      "Objective is: 2.1726852196779527\n",
      "Optimal solution is:\n",
      "x[1,1]=0.0 x[1,2]=1.0 x[1,3]=0.0 x[1,4]=0.0 \n",
      "x[2,1]=0.0 x[2,2]=0.0 x[2,3]=0.0 x[2,4]=1.0 \n",
      "x[3,1]=1.0 x[3,2]=0.0 x[3,3]=0.0 x[3,4]=0.0 \n",
      "x[4,1]=0.0 x[4,2]=0.0 x[4,3]=1.0 x[4,4]=0.0 \n"
     ]
    }
   ],
   "source": [
    "using JuMP, GLPK\n",
    "const MOI = JuMP.MathOptInterface\n",
    "\n",
    "m = 4;\n",
    "c = zeros(m,m);\n",
    "#Make diag cost matrix c\n",
    "for i in 1:m\n",
    "    for j in 1:m\n",
    "        if i == j\n",
    "            c[i,i] = 0;\n",
    "        end\n",
    "        if j > i\n",
    "            c[i,j] = c[j,i] = rand();\n",
    "        end\n",
    "        #print(c[i,j], \" \")\n",
    "    end\n",
    "        #print(\"\\n\")\n",
    "end\n",
    "#t = 0:m-1;\n",
    "model = JuMP.Model(JuMP.with_optimizer(GLPK.Optimizer))\n",
    "@variable(model, x[1:m, 1:m], Bin)\n",
    "@variable(model, t[1:m], Int)\n",
    "@objective(model, Min, sum(c[i,j]*x[i,j] for i in 1:m, j in 1:m))\n",
    "#for i = 1:m\n",
    "#        @constraint(model, t[i] >= 0)\n",
    "#end\n",
    "for i = 1:m, j = 2:m\n",
    "    if i != j\n",
    "        @constraint(model,t[j] >= t[i] + 1 - m*(1-x[i,j]))\n",
    "    end \n",
    "end\n",
    "@constraint(model, const_a[i=1:m], x[i,i] == 0)\n",
    "@constraint(model, const_b[i=1:m], sum(x[i,1:m])==1)\n",
    "@constraint(model, const_c[j=1:m], sum(x[1:m,j])==1)\n",
    "model\n",
    "#Solve and test\n",
    "JuMP.optimize!(model)\n",
    "    term_status = JuMP.termination_status(model)\n",
    "    primal_status = JuMP.primal_status(model)\n",
    "    is_optimal = term_status == MOI.OPTIMAL\n",
    "\n",
    "    # Check solution\n",
    "    if is_optimal\n",
    "        println(\"Objective is: \", JuMP.objective_value(model))\n",
    "        println(\"Optimal solution is:\")\n",
    "        for i in 1:m\n",
    "            for j in 1:m    \n",
    "            print(\"x[$i,$j]=\", JuMP.value(x[i,j]), \" \")\n",
    "            end\n",
    "            print(\"\\n\")\n",
    "        end\n",
    "    else\n",
    "        error(\"No se encontró una solución\")\n",
    "    end"
   ]
  },
  {
   "cell_type": "code",
   "execution_count": null,
   "metadata": {},
   "outputs": [],
   "source": []
  }
 ],
 "metadata": {
  "kernelspec": {
   "display_name": "Julia 1.0.3",
   "language": "julia",
   "name": "julia-1.0"
  },
  "language_info": {
   "file_extension": ".jl",
   "mimetype": "application/julia",
   "name": "julia",
   "version": "1.0.3"
  }
 },
 "nbformat": 4,
 "nbformat_minor": 2
}
